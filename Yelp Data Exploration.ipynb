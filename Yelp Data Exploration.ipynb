{
 "cells": [
  {
   "cell_type": "code",
   "execution_count": 3,
   "metadata": {},
   "outputs": [],
   "source": [
    "import numpy as np\n",
    "import pandas as pd\n",
    "import os\n",
    "import csv\n",
    "from datetime import datetime\n",
    "from sklearn.model_selection import train_test_split\n",
    "import pickle\n",
    "\n",
    "from keras.preprocessing.text import Tokenizer\n",
    "from keras.preprocessing.sequence import pad_sequences\n",
    "from sklearn.model_selection import train_test_split, GridSearchCV\n",
    "from keras.wrappers.scikit_learn import KerasClassifier\n",
    "from keras.layers.core import Activation\n",
    "from keras.models import Sequential\n",
    "from keras.layers import Dense, LSTM, Dropout, RNN\n",
    "from keras.layers.embeddings import Embedding"
   ]
  },
  {
   "cell_type": "code",
   "execution_count": 4,
   "metadata": {},
   "outputs": [],
   "source": [
    "DATA_ROOT = 'data'\n",
    "SEED = 1000\n",
    "NUM_EPOCHS = 5\n",
    "BATCH_SIZE = 64"
   ]
  },
  {
   "cell_type": "code",
   "execution_count": 5,
   "metadata": {},
   "outputs": [],
   "source": [
    "def load_data(file_name):\n",
    "    pickle_name = os.path.join(DATA_ROOT, file_name + '.pkl')\n",
    "    time_start = datetime.now()\n",
    "    if os.path.isfile(pickle_name):\n",
    "        print('loading from pickle...')\n",
    "        review_data = pd.read_pickle(pickle_name)\n",
    "    else:\n",
    "        print('loading from csv...')\n",
    "        review_data = pd.read_csv(os.path.join(DATA_ROOT, file_name))\n",
    "        review_data.to_pickle(pickle_name)\n",
    "    print('Loaded in ' + str(datetime.now() - time_start) + ' seconds')\n",
    "    return review_data"
   ]
  },
  {
   "cell_type": "code",
   "execution_count": null,
   "metadata": {},
   "outputs": [],
   "source": [
    "review_data = load_data('yelp_review.csv')"
   ]
  },
  {
   "cell_type": "code",
   "execution_count": null,
   "metadata": {},
   "outputs": [],
   "source": [
    "review_data.shape"
   ]
  },
  {
   "cell_type": "code",
   "execution_count": null,
   "metadata": {},
   "outputs": [],
   "source": [
    "# review_data.drop(['review_id', 'user_id', 'business_id', 'date', 'useful', 'funny', 'cool'], axis=1, inplace=True)"
   ]
  },
  {
   "cell_type": "code",
   "execution_count": null,
   "metadata": {},
   "outputs": [],
   "source": [
    "# x = review_data['text'].as_matrix()\n",
    "# y = pd.get_dummies(review_data['stars']).as_matrix()"
   ]
  },
  {
   "cell_type": "code",
   "execution_count": null,
   "metadata": {},
   "outputs": [],
   "source": [
    "# x_train, x_test, y_train, y_test = train_test_split(x, y, stratify=y, test_size=0.3, train_size=0.7, random_state=SEED)"
   ]
  },
  {
   "cell_type": "code",
   "execution_count": 6,
   "metadata": {},
   "outputs": [],
   "source": [
    "def get_tokenizer(vocab_size, train_text=None):\n",
    "    tokenizer_file_name = os.path.join(DATA_ROOT, 'tokenizer_' + str(vocab_size) + '.pkl')\n",
    "    time_start = datetime.now()\n",
    "    if os.path.isfile(tokenizer_file_name):\n",
    "        print('Loading tokenizer...')\n",
    "        with open(tokenizer_file_name, 'rb') as file:\n",
    "            tokenizer = pickle.load(file)\n",
    "    else:\n",
    "        print('Training tokenizer...')\n",
    "        tokenizer = Tokenizer(num_words=vocab_size)\n",
    "        tokenizer.fit_on_texts(train_text)\n",
    "        \n",
    "        with open(tokenizer_file_name, 'wb') as file:\n",
    "            pickle.dump(tokenizer, file)\n",
    "        \n",
    "    print('Got tokenizer for vocab size: ' + str(vocab_size) + ' in ' + str(datetime.now() - time_start))\n",
    "    return tokenizer"
   ]
  },
  {
   "cell_type": "code",
   "execution_count": 12,
   "metadata": {},
   "outputs": [],
   "source": [
    "def get_data(vocab_size=100, review_length=250, num_reviews=None):\n",
    "    file_name = os.path.join(DATA_ROOT, str(vocab_size) + '_' + str(review_length) + '_' + str(num_reviews) + '.pkl')\n",
    "    if os.path.isfile(file_name):\n",
    "        with open(file_name, 'rb') as file:\n",
    "            x_train, x_test, y_train, y_test = pickle.load(file)\n",
    "    else:\n",
    "        review_data = load_data('yelp_review.csv')\n",
    "        review_data.drop(['review_id', 'user_id', 'business_id', 'date', 'useful', 'funny', 'cool'], axis=1, inplace=True)\n",
    "        \n",
    "        x = review_data['text'].as_matrix()\n",
    "        y = pd.get_dummies(review_data['stars']).as_matrix()\n",
    "        \n",
    "        # We want our tokenizer on all of the data\n",
    "        tokenizer = get_tokenizer(vocab_size)\n",
    "\n",
    "        x_train, x_test, y_train, y_test = train_test_split(x, y, stratify=y, test_size=0.3, train_size=0.7, random_state=SEED)\n",
    "        \n",
    "        # The data is truncated after the split so we get a stratified sample\n",
    "        \n",
    "        if num_reviews:\n",
    "            print('Truncating data...')\n",
    "            x_train = x_train[0:num_reviews]\n",
    "            x_test = x_test[0:num_reviews]\n",
    "            y_train = y_train[0:num_reviews]\n",
    "            y_test = y_test[0:num_reviews]\n",
    "        \n",
    "        x_train = tokenizer.texts_to_sequences(x_train)\n",
    "        x_train = pad_sequences(x_train, maxlen=review_length)\n",
    "\n",
    "        # Fit our testing data\n",
    "        x_test = tokenizer.texts_to_sequences(x_test)\n",
    "        x_test = pad_sequences(x_test, maxlen=review_length)\n",
    "        \n",
    "        with open(file_name, 'wb') as file:\n",
    "            pickle.dump([x_train, x_test, y_train, y_test], file)\n",
    "    \n",
    "    return x_train, x_test, y_train, y_test"
   ]
  },
  {
   "cell_type": "code",
   "execution_count": 10,
   "metadata": {},
   "outputs": [],
   "source": [
    "# Prepping Data for reuse\n",
    "vocab_sizes = [50, 100, 150, 200, 250, 500]\n",
    "review_length = [50, 100, 150, 200, 250, 300]\n",
    "\n"
   ]
  },
  {
   "cell_type": "code",
   "execution_count": 13,
   "metadata": {
    "scrolled": true
   },
   "outputs": [],
   "source": [
    "x_train, x_test, y_train, y_test = get_data(vocab_size=50, num_reviews=1000)"
   ]
  },
  {
   "cell_type": "code",
   "execution_count": null,
   "metadata": {},
   "outputs": [],
   "source": [
    "x_train.shape"
   ]
  },
  {
   "cell_type": "code",
   "execution_count": 14,
   "metadata": {},
   "outputs": [],
   "source": [
    "from keras import backend as K"
   ]
  },
  {
   "cell_type": "code",
   "execution_count": 15,
   "metadata": {},
   "outputs": [],
   "source": [
    "'''\n",
    "Explain rational behind this\n",
    "'''\n",
    "\n",
    "\n",
    "def mean_star_diff(y_true, y_pred):\n",
    "    return K.mean(K.abs(K.argmax(y_true) - K.argmax(y_pred)))\n",
    "    "
   ]
  },
  {
   "cell_type": "code",
   "execution_count": null,
   "metadata": {},
   "outputs": [],
   "source": [
    "y_true = [\n",
    "    [0, 1, 0, 0, 0],\n",
    "    [1, 0, 0, 0, 0],\n",
    "    [0, 0, 0, 0, 1],\n",
    "    [1, 0, 0, 0, 0]\n",
    "]\n",
    "\n",
    "y_pred = [\n",
    "    [1, 0, 0, 0, 0],\n",
    "    [0, 0, 0, 1, 0],\n",
    "    [0, 0, 1, 0, 0],\n",
    "    [1, 0, 0, 0, 0]\n",
    "]"
   ]
  },
  {
   "cell_type": "code",
   "execution_count": null,
   "metadata": {},
   "outputs": [],
   "source": [
    "print(mean_star_diff(y_true, y_pred))"
   ]
  },
  {
   "cell_type": "code",
   "execution_count": null,
   "metadata": {},
   "outputs": [],
   "source": []
  },
  {
   "cell_type": "code",
   "execution_count": null,
   "metadata": {},
   "outputs": [],
   "source": []
  },
  {
   "cell_type": "code",
   "execution_count": 16,
   "metadata": {},
   "outputs": [],
   "source": [
    "def basic_lstm_model(embedding_vector_length=32, dropout_rate=0.2, vocab_size=500, review_length=250):\n",
    "    model = Sequential()\n",
    "    model.add(Embedding(vocab_size, embedding_vector_length, input_length=review_length))\n",
    "    model.add(Dropout(dropout_rate))\n",
    "    model.add(LSTM(100))\n",
    "    model.add(Dropout(dropout_rate))\n",
    "    model.add(Dense(5, activation='softmax'))\n",
    "    model.compile(loss='categorical_crossentropy', optimizer='adam', metrics=['accuracy', mean_star_diff])\n",
    "    return model"
   ]
  },
  {
   "cell_type": "code",
   "execution_count": 17,
   "metadata": {},
   "outputs": [
    {
     "name": "stdout",
     "output_type": "stream",
     "text": [
      "Epoch 1/5\n",
      "1000/1000 [==============================] - 6s 6ms/step - loss: 1.5619 - acc: 0.4090 - mean_star_diff: 1.0000\n",
      "Epoch 2/5\n",
      "1000/1000 [==============================] - 5s 5ms/step - loss: 1.4239 - acc: 0.4290 - mean_star_diff: 0.9360\n",
      "Epoch 3/5\n",
      "1000/1000 [==============================] - 5s 5ms/step - loss: 1.3956 - acc: 0.4290 - mean_star_diff: 0.9360\n",
      "Epoch 4/5\n",
      "1000/1000 [==============================] - 5s 5ms/step - loss: 1.3799 - acc: 0.4300 - mean_star_diff: 1.0000\n",
      "Epoch 5/5\n",
      "1000/1000 [==============================] - 5s 5ms/step - loss: 1.3561 - acc: 0.4340 - mean_star_diff: 1.0000\n",
      "[1.3351446018218993, 0.442, 0.84]\n",
      "Accuracy: 44.20%\n"
     ]
    }
   ],
   "source": [
    "model = basic_lstm_model(vocab_size=50)\n",
    "model.fit(x_train, y_train, epochs=NUM_EPOCHS, batch_size=BATCH_SIZE)\n",
    "scores = model.evaluate(x_test, y_test, verbose=0)\n",
    "print(scores)\n",
    "print(\"Accuracy: %.2f%%\" % (scores[1]*100))"
   ]
  },
  {
   "cell_type": "code",
   "execution_count": 18,
   "metadata": {},
   "outputs": [],
   "source": [
    "x_train, x_test, y_train, y_test = get_data(vocab_size=50, num_reviews=10000)"
   ]
  },
  {
   "cell_type": "code",
   "execution_count": null,
   "metadata": {},
   "outputs": [
    {
     "name": "stdout",
     "output_type": "stream",
     "text": [
      "Epoch 1/5\n",
      "10000/10000 [==============================] - 47s 5ms/step - loss: 1.3847 - acc: 0.4414 - mean_star_diff: 0.9168\n",
      "Epoch 2/5\n",
      " 7680/10000 [======================>.......] - ETA: 10s - loss: 1.3031 - acc: 0.4611 - mean_star_diff: 0.8417"
     ]
    }
   ],
   "source": [
    "model = basic_lstm_model(vocab_size=50)\n",
    "model.fit(x_train, y_train, epochs=NUM_EPOCHS, batch_size=BATCH_SIZE)\n",
    "scores = model.evaluate(x_test, y_test, verbose=0)\n",
    "print(scores)"
   ]
  },
  {
   "cell_type": "code",
   "execution_count": null,
   "metadata": {},
   "outputs": [],
   "source": [
    "def basic_lstm_model_star_loss(embedding_vector_length=32, dropout_rate=0.2, vocab_size=500, review_length=250):\n",
    "    model = Sequential()\n",
    "    model.add(Embedding(vocab_size, embedding_vector_length, input_length=review_length))\n",
    "    model.add(Dropout(dropout_rate))\n",
    "    model.add(LSTM(100))\n",
    "    model.add(Dropout(dropout_rate))\n",
    "    model.add(Dense(5, activation='softmax'))\n",
    "    model.compile(loss=mean_star_diff, optimizer='adam', metrics=['accuracy', mean_star_diff])\n",
    "    return model"
   ]
  },
  {
   "cell_type": "code",
   "execution_count": null,
   "metadata": {},
   "outputs": [],
   "source": [
    "model = basic_lstm_model_star_loss(voacb_size=50)\n",
    "model.fit(x_train, y_train, epochs=NUM_EPOCHS, batch_size=BATCH_SIZE)\n",
    "scores = model.evaluate(x_test, y_test, verbose=0)\n",
    "print(scores)"
   ]
  },
  {
   "cell_type": "code",
   "execution_count": null,
   "metadata": {},
   "outputs": [],
   "source": []
  }
 ],
 "metadata": {
  "kernelspec": {
   "display_name": "Python 3",
   "language": "python",
   "name": "python3"
  },
  "language_info": {
   "codemirror_mode": {
    "name": "ipython",
    "version": 3
   },
   "file_extension": ".py",
   "mimetype": "text/x-python",
   "name": "python",
   "nbconvert_exporter": "python",
   "pygments_lexer": "ipython3",
   "version": "3.6.5"
  }
 },
 "nbformat": 4,
 "nbformat_minor": 2
}

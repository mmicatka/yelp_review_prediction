{
 "cells": [
  {
   "cell_type": "markdown",
   "metadata": {},
   "source": [
    "# Yelp Review Star Prediction\n",
    "\n",
    "Explain the problem space here"
   ]
  },
  {
   "cell_type": "code",
   "execution_count": 1,
   "metadata": {},
   "outputs": [
    {
     "name": "stderr",
     "output_type": "stream",
     "text": [
      "/home/mike/venv/lib/python3.6/site-packages/h5py/__init__.py:36: FutureWarning: Conversion of the second argument of issubdtype from `float` to `np.floating` is deprecated. In future, it will be treated as `np.float64 == np.dtype(float).type`.\n",
      "  from ._conv import register_converters as _register_converters\n",
      "Using TensorFlow backend.\n"
     ]
    }
   ],
   "source": [
    "import numpy as np\n",
    "import pandas as pd\n",
    "import os\n",
    "import csv\n",
    "from datetime import datetime\n",
    "from sklearn.model_selection import train_test_split\n",
    "import pickle\n",
    "from glob import glob\n",
    "import matplotlib.pyplot as plt\n",
    "\n",
    "from imblearn.under_sampling import NearMiss\n",
    "\n",
    "from keras.preprocessing.text import Tokenizer\n",
    "from keras.preprocessing.sequence import pad_sequences\n",
    "from sklearn.model_selection import train_test_split, GridSearchCV\n",
    "from keras.wrappers.scikit_learn import KerasClassifier\n",
    "from keras.layers.core import Activation\n",
    "from keras.models import Sequential\n",
    "from keras.layers import Dense, LSTM, Dropout, RNN\n",
    "from keras.layers.embeddings import Embedding\n",
    "from keras import backend as K\n",
    "from keras.models import load_model"
   ]
  },
  {
   "cell_type": "code",
   "execution_count": 2,
   "metadata": {},
   "outputs": [],
   "source": [
    "DATA_ROOT = 'data'\n",
    "SEED = 1000"
   ]
  },
  {
   "cell_type": "markdown",
   "metadata": {},
   "source": [
    "# Helper Functions"
   ]
  },
  {
   "cell_type": "code",
   "execution_count": 3,
   "metadata": {},
   "outputs": [],
   "source": [
    "def load_data(file_name):\n",
    "    pickle_name = os.path.join(DATA_ROOT, file_name + '.pkl')\n",
    "    time_start = datetime.now()\n",
    "    if os.path.isfile(pickle_name):\n",
    "        print('loading from pickle...')\n",
    "        review_data = pd.read_pickle(pickle_name)\n",
    "    else:\n",
    "        print('loading from csv...')\n",
    "        review_data = pd.read_csv(os.path.join(DATA_ROOT, file_name))\n",
    "        review_data.to_pickle(pickle_name)\n",
    "    print('Loaded in ' + str(datetime.now() - time_start) + ' seconds')\n",
    "    return review_data"
   ]
  },
  {
   "cell_type": "code",
   "execution_count": 4,
   "metadata": {},
   "outputs": [],
   "source": [
    "def get_tokenizer(vocab_size):\n",
    "    tokenizer_file_name = os.path.join(DATA_ROOT, 'tokenizers', 'tokenizer_' + str(vocab_size) + '.pkl')\n",
    "    time_start = datetime.now()\n",
    "    if os.path.isfile(tokenizer_file_name):\n",
    "        print('Loading tokenizer...')\n",
    "        with open(tokenizer_file_name, 'rb') as file:\n",
    "            tokenizer = pickle.load(file)\n",
    "    else:\n",
    "        print('Training tokenizer...this will take a while...')\n",
    "        tokenizer = Tokenizer(num_words=vocab_size)\n",
    "        \n",
    "        # We want to to use the whole corpus of data\n",
    "        review_data = load_data('yelp_review.csv')\n",
    "        train_text = review_data['text'].as_matrix()\n",
    "        tokenizer.fit_on_texts(train_text)\n",
    "        \n",
    "        with open(tokenizer_file_name, 'wb') as file:\n",
    "            pickle.dump(tokenizer, file)\n",
    "        \n",
    "    print('Got tokenizer for vocab size: ' + str(vocab_size) + ' in ' + str(datetime.now() - time_start))\n",
    "    return tokenizer"
   ]
  },
  {
   "cell_type": "code",
   "execution_count": 5,
   "metadata": {},
   "outputs": [],
   "source": [
    "def prep_data(vocab_size=100, review_length=250, num_reviews=None):\n",
    "    print('Retrieving/Preparing data for: vocab size = ' + str(vocab_size) + ' review_length = ' + str(review_length) + ' num_reviews = ' + str(num_reviews))\n",
    "    file_name = os.path.join(DATA_ROOT, 'processed_data', str(vocab_size) + '_' + str(review_length) + '_' + str(num_reviews) + '.pkl')\n",
    "    if not os.path.isfile(file_name):\n",
    "        review_data = load_data('yelp_review.csv')\n",
    "        review_data.drop(['review_id', 'user_id', 'business_id', 'date', 'useful', 'funny', 'cool'], axis=1, inplace=True)\n",
    "        \n",
    "        x = review_data['text'].as_matrix()\n",
    "        y = pd.get_dummies(review_data['stars']).as_matrix()\n",
    "        \n",
    "        # We want our tokenizer on all of the data\n",
    "        tokenizer = get_tokenizer(vocab_size)\n",
    "\n",
    "        if num_reviews:\n",
    "            print('Truncating data...')\n",
    "            x_train = x_train[0:num_reviews]\n",
    "            x_test = x_test[0:num_reviews]\n",
    "            y_train = y_train[0:num_reviews]\n",
    "            y_test = y_test[0:num_reviews]\n",
    "        \n",
    "        x_train = tokenizer.texts_to_sequences(x_train)\n",
    "        x_train = pad_sequences(x_train, maxlen=review_length)\n",
    "\n",
    "        # Fit our testing data\n",
    "        x_test = tokenizer.texts_to_sequences(x_test)\n",
    "        x_test = pad_sequences(x_test, maxlen=review_length)\n",
    "        \n",
    "        with open(file_name, 'wb') as file:\n",
    "            pickle.dump([x_train, x_test, y_train, y_test], file)\n",
    "    return"
   ]
  },
  {
   "cell_type": "code",
   "execution_count": 6,
   "metadata": {},
   "outputs": [],
   "source": [
    "def get_data(vocab_size=100, review_length=250, num_reviews=None):\n",
    "    prep_data(vocab_size=vocab_size, review_length=review_length, num_reviews=num_reviews)\n",
    "    \n",
    "    file_name = os.path.join(DATA_ROOT, 'processed_data', str(vocab_size) + '_' + str(review_length) + '_' + str(num_reviews) + '.pkl')\n",
    "    \n",
    "    with open(file_name, 'rb') as file:\n",
    "            x_train, x_test, y_train, y_test = pickle.load(file)\n",
    "    \n",
    "    return x_train, x_test, y_train, y_test"
   ]
  },
  {
   "cell_type": "code",
   "execution_count": null,
   "metadata": {},
   "outputs": [],
   "source": []
  },
  {
   "cell_type": "code",
   "execution_count": null,
   "metadata": {},
   "outputs": [],
   "source": []
  },
  {
   "cell_type": "code",
   "execution_count": null,
   "metadata": {},
   "outputs": [],
   "source": []
  },
  {
   "cell_type": "markdown",
   "metadata": {},
   "source": [
    "# Data Exploration"
   ]
  },
  {
   "cell_type": "code",
   "execution_count": 7,
   "metadata": {},
   "outputs": [
    {
     "name": "stdout",
     "output_type": "stream",
     "text": [
      "loading from pickle...\n",
      "Loaded in 0:00:03.857262 seconds\n",
      "Loading tokenizer...\n",
      "Got tokenizer for vocab size: 250 in 0:00:00.439900\n"
     ]
    }
   ],
   "source": [
    "review_data = load_data('yelp_review.csv')\n",
    "# For this analysis we just want the unique id and the star rating\n",
    "review_data.drop(['review_id', 'user_id', 'business_id', 'date', 'useful', 'funny', 'cool'], axis=1, inplace=True)\n",
    "\n",
    "x = review_data['text'].as_matrix()\n",
    "y = review_data['stars'].as_matrix()\n",
    "\n",
    "x_train, x_test, y_train, y_test = train_test_split(x, y)\n",
    "\n",
    "x_train = x_train[0:10000]\n",
    "y_train = y_train[0:10000]\n",
    "\n",
    "tokenizer = get_tokenizer(250)\n",
    "\n",
    "# We need to preprocess our data\n",
    "# This should be pipelined in the future\n",
    "x_train = tokenizer.texts_to_sequences(x_train)\n",
    "x_train = pad_sequences(x_train, maxlen=250)\n",
    "\n",
    "x_test = x_test[0:10000]\n",
    "y_test = y_test[0:10000]\n",
    "\n",
    "x_test = tokenizer.texts_to_sequences(x_test)\n",
    "x_test = pad_sequences(x_test, maxlen=250)\n",
    "\n"
   ]
  },
  {
   "cell_type": "markdown",
   "metadata": {},
   "source": [
    "## Data Imbalance\n",
    "Our data is rather imbalanced as shown below. There are solutions to this problem though. Using imbalanced data techniques...probably go into more detail here"
   ]
  },
  {
   "cell_type": "code",
   "execution_count": 8,
   "metadata": {},
   "outputs": [
    {
     "data": {
      "image/png": "[encoded data removed]",
      "text/plain": [
       "<Figure size 432x288 with 1 Axes>"
      ]
     },
     "metadata": {},
     "output_type": "display_data"
    }
   ],
   "source": [
    "bins = [1, 2, 3, 4, 5, 6]\n",
    "hist, _ = np.histogram(y_train, bins=bins)\n",
    "\n",
    "plt.bar(bins[:-1], hist)\n",
    "plt.xlabel('Star Rating')\n",
    "plt.ylabel('Number of Reviews')\n",
    "plt.title('Star Ratings vs Number of Reviews')\n",
    "plt.show()"
   ]
  },
  {
   "cell_type": "code",
   "execution_count": 9,
   "metadata": {},
   "outputs": [],
   "source": [
    "nm = NearMiss(random_state=SEED, n_jobs=-1)\n",
    "x_balanced, y_balanced = nm.fit_sample(x_train, y_train)"
   ]
  },
  {
   "cell_type": "code",
   "execution_count": 10,
   "metadata": {},
   "outputs": [
    {
     "data": {
      "image/png": "[encoded data removed]",
      "text/plain": [
       "<Figure size 432x288 with 1 Axes>"
      ]
     },
     "metadata": {},
     "output_type": "display_data"
    }
   ],
   "source": [
    "hist, _ = np.histogram(y_balanced, bins=bins)\n",
    "\n",
    "plt.bar(bins[:-1], hist)\n",
    "plt.xlabel('Star Rating')\n",
    "plt.ylabel('Number of Reviews')\n",
    "plt.title('Star Ratings vs Number of Reviews')\n",
    "plt.show()"
   ]
  },
  {
   "cell_type": "markdown",
   "metadata": {},
   "source": [
    "# Using LSTM for Predictions\n",
    "What is LSTM? High level stuff here"
   ]
  },
  {
   "cell_type": "code",
   "execution_count": 11,
   "metadata": {},
   "outputs": [],
   "source": [
    "def mean_star_diff(y_true, y_pred):\n",
    "    \"\"\"\n",
    "    Explain what this does\n",
    "    \"\"\"\n",
    "    return K.mean(K.abs(K.argmax(y_true) - K.argmax(y_pred)))"
   ]
  },
  {
   "cell_type": "code",
   "execution_count": 12,
   "metadata": {},
   "outputs": [],
   "source": [
    "def basic_lstm_model(embedding_vector_length=32, dropout_rate=0.2, vocab_size=500, review_length=250):\n",
    "    model = Sequential()\n",
    "    model.add(Embedding(vocab_size, embedding_vector_length, input_length=review_length))\n",
    "    model.add(Dropout(dropout_rate))\n",
    "    model.add(LSTM(100))\n",
    "    model.add(Dropout(dropout_rate))\n",
    "    model.add(Dense(5, activation='softmax'))\n",
    "    model.compile(loss='categorical_crossentropy', optimizer='adam', metrics=['accuracy', mean_star_diff])\n",
    "    return model"
   ]
  },
  {
   "cell_type": "code",
   "execution_count": null,
   "metadata": {},
   "outputs": [
    {
     "name": "stdout",
     "output_type": "stream",
     "text": [
      "Epoch 1/5\n",
      "10000/10000 [==============================] - 54s 5ms/step - loss: 1.2911 - acc: 0.4640 - mean_star_diff: 0.5856\n",
      "Epoch 2/5\n",
      " 5536/10000 [===============>..............] - ETA: 24s - loss: 1.1392 - acc: 0.5217 - mean_star_diff: 0.2543"
     ]
    }
   ],
   "source": [
    "y_train_dummies = pd.get_dummies(y_train).as_matrix()\n",
    "time_start = datetime.now()\n",
    "model = basic_lstm_model(vocab_size=250, review_length=250)\n",
    "model.fit(x_train, y_train_dummies, epochs=5, batch_size=32)"
   ]
  },
  {
   "cell_type": "code",
   "execution_count": null,
   "metadata": {},
   "outputs": [],
   "source": [
    "y_train_balanced = pd.get_dummies(y_balanced).as_matrix()\n",
    "time_start = datetime.now()\n",
    "model_balanced = basic_lstm_model(vocab_size=250, review_length=250)\n",
    "model_balanced.fit(x_train_balanced, y_train_balanced, epochs=5, batch_size=32)"
   ]
  },
  {
   "cell_type": "code",
   "execution_count": null,
   "metadata": {},
   "outputs": [],
   "source": []
  },
  {
   "cell_type": "code",
   "execution_count": null,
   "metadata": {},
   "outputs": [],
   "source": [
    "scores = model.evaluate(x_test, y_test)\n",
    "print(scores)"
   ]
  },
  {
   "cell_type": "code",
   "execution_count": null,
   "metadata": {},
   "outputs": [],
   "source": [
    "scores_balanced = model_balanced.evaluate(x_test, y_test)"
   ]
  },
  {
   "cell_type": "code",
   "execution_count": null,
   "metadata": {},
   "outputs": [],
   "source": [
    "print(scores_balanced)"
   ]
  },
  {
   "cell_type": "code",
   "execution_count": null,
   "metadata": {},
   "outputs": [],
   "source": []
  },
  {
   "cell_type": "code",
   "execution_count": null,
   "metadata": {},
   "outputs": [],
   "source": []
  },
  {
   "cell_type": "code",
   "execution_count": null,
   "metadata": {},
   "outputs": [],
   "source": [
    "\n"
   ]
  },
  {
   "cell_type": "code",
   "execution_count": null,
   "metadata": {},
   "outputs": [],
   "source": []
  },
  {
   "cell_type": "code",
   "execution_count": null,
   "metadata": {},
   "outputs": [],
   "source": []
  },
  {
   "cell_type": "code",
   "execution_count": null,
   "metadata": {},
   "outputs": [],
   "source": []
  },
  {
   "cell_type": "code",
   "execution_count": null,
   "metadata": {},
   "outputs": [],
   "source": [
    "time_start = datetime.now()\n",
    "model = basic_lstm_model(vocab_size=250, review_length=250)\n",
    "model.fit(x_train, y_train, epochs=5, batch_size=32)\n",
    "scores = model.evaluate(x_test, y_test)\n",
    "print(scores)\n",
    "print('Trained in: ', str(datetime.now() - time_start))"
   ]
  },
  {
   "cell_type": "code",
   "execution_count": null,
   "metadata": {},
   "outputs": [],
   "source": []
  },
  {
   "cell_type": "code",
   "execution_count": null,
   "metadata": {},
   "outputs": [],
   "source": []
  },
  {
   "cell_type": "code",
   "execution_count": null,
   "metadata": {},
   "outputs": [],
   "source": []
  },
  {
   "cell_type": "code",
   "execution_count": null,
   "metadata": {},
   "outputs": [],
   "source": [
    "vocab_sizes = [50, 100, 150, 200, 250, 500]\n",
    "review_lengths = [150, 250, 500]\n",
    "num_epochs = 5\n",
    "num_reviews = 25000\n",
    "batch_size = 64\n",
    "\n",
    "for vocab_size in vocab_sizes:\n",
    "    for review_length in review_lengths:\n",
    "        file_base_name = os.path.join(DATA_ROOT, 'models', str(vocab_size) + '.' + str(review_length) + '.' + str(num_epochs) + '.epochs.')\n",
    "        file_name = glob(file_base_name + '*')\n",
    "        \n",
    "        if not file_name:\n",
    "            x_train, x_test, y_train, y_test = get_data(vocab_size=vocab_size, review_length=review_length, num_reviews=num_reviews)\n",
    "            model = basic_lstm_model(vocab_size=vocab_size, review_length=review_length)\n",
    "            model.fit(x_train, y_train, epochs=num_epochs, batch_size=batch_size)\n",
    "            scores = model.evaluate(x_test, y_test)\n",
    "            file_name = file_base_name + str(scores[2]) + '.hd5'\n",
    "            model.save(file_name)   "
   ]
  },
  {
   "cell_type": "code",
   "execution_count": null,
   "metadata": {},
   "outputs": [],
   "source": []
  },
  {
   "cell_type": "code",
   "execution_count": null,
   "metadata": {},
   "outputs": [],
   "source": []
  }
 ],
 "metadata": {
  "kernelspec": {
   "display_name": "Python 3",
   "language": "python",
   "name": "python3"
  },
  "language_info": {
   "codemirror_mode": {
    "name": "ipython",
    "version": 3
   },
   "file_extension": ".py",
   "mimetype": "text/x-python",
   "name": "python",
   "nbconvert_exporter": "python",
   "pygments_lexer": "ipython3",
   "version": "3.6.5"
  }
 },
 "nbformat": 4,
 "nbformat_minor": 2
}
